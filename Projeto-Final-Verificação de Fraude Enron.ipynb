{
 "cells": [
  {
   "cell_type": "markdown",
   "metadata": {},
   "source": [
    "# Estudo de caso: Verificação de emails da Enron para identificação de fraudes\n",
    "\n",
    "## Introdução\n",
    "\n",
    "Este estudo de caso tem como objetivo identificar os empregados que cometeram fraude na Enron, analisando um conjunto de dados de funcionarios e folha de dados com a ajuda de Machine Learning.\n",
    "\n",
    "<b>1.Summarize for us the goal of this project and how machine learning is useful in trying to accomplish it. As part of your answer, give some background on the dataset and how it can be used to answer the project question. Were there any outliers in the data when you got it, and how did you handle those?  [relevant rubric items: “data exploration”, “outlier investigation”]</b>\n",
    "\n",
    "Machine Learning será muito util para a realização deste projeto, pois nos possibilita classificar os funcionários. Neste caso, o conjunto de dados classifica os funcionário em 2 tipos:\n",
    "<ul>\n",
    "   <li>0: Funcionários que são inocentes</li>\n",
    "   <li>1: Funcionários que são considerados culpados</li>\n",
    "</ul>\n",
    "\n",
    "Muitos dados estão faltando neste DataSet, para conseguir trabalhar com os nulos (NaN), substituimos por 0 ou pela média dependendo do tipo de dado. \n",
    "\n",
    "Existem 146 registros com 22 caracteristicas para uma chave e encontramos um outlier quando verificamos uma relação de 'Salário' e 'Bonus'\n",
    "\n",
    "<b>2. What features did you end up using in your POI identifier, and what selection process did you use to pick them? Did you have to do any scaling? Why or why not? As part of the assignment, you should attempt to engineer your own feature that does not come ready-made in the dataset -- explain what feature you tried to make, and the rationale behind it. (You do not necessarily have to use it in the final analysis, only engineer and test it.) In your feature selection step, if you used an algorithm like a decision tree, please also give the feature importances of the features that you use, and if you used an automated feature selection function like SelectKBest, please report the feature scores and reasons for your choice of parameter values.  [relevant rubric items: “create new features”, “intelligently select features”, “properly scale features”]</b>\n",
    "\n",
    "Para selecionar minhas features, eu selecionei 7 features entre os melhores features de todos os algoritmos de seleção de features que eu usei (SelecktKBest, DecisionTree_FeatureImportance, RandomForest) + poi + novas fetures criadas, para saber quais as features mais importantes para o meu classificador. Com relação a escala, nenhum dos meus classificados precisaram de ajustes.\n",
    "\n",
    "Eu criei 2 novas features para o projeto, fraction_from_poi'(from_poi_to_this_person/to_messages)and 'fraction_to_poi'(from_this_person_to_poi/from_messages), além disso usei o SelectKBest e o recurso de featureImportance do DecisionTree para verificar os features mais importantes para realizar o treinamento dos meus dados.\n",
    "\n",
    "<table>\n",
    "    <tr>\n",
    "        <th>Classificador</th>\n",
    "        <th>Acurracy</th>\n",
    "        <th>Precision</th>\n",
    "        <th>Recall</th>\n",
    "    </tr>\n",
    "    <tr>\n",
    "        <td>DecisionTree</td>\n",
    "        <td>0.795</td>\n",
    "        <td>0.227</td>\n",
    "        <td>0.223</td>\n",
    "    </tr>\n",
    "    <tr>\n",
    "        <td>DecisionTree + new features</td>\n",
    "        <td>0.831</td>\n",
    "        <td>0.36</td>\n",
    "        <td>0.34</td>\n",
    "    </tr>\n",
    "</table>\n",
    "\n",
    "<b>3. What algorithm did you end up using? What other one(s) did you try? How did model performance differ between algorithms?</b>\n",
    "\n",
    "Eu tentei compara o GausianNB com a DecisionTree, e apesar da seleção de features do GausianNB parecer melhor para aprimorar o algoritimo, o DecisionTree apresenta uma avaliação melhor no final\n",
    "\n",
    "<table>\n",
    "    <tr>\n",
    "        <th>Classificador</th>\n",
    "        <th>Acurracy</th>\n",
    "        <th>Precision</th>\n",
    "        <th>Recall</th>\n",
    "    </tr>\n",
    "    <tr>\n",
    "        <td>GaussianNB</td>\n",
    "        <td>0.739</td>\n",
    "        <td>0.223</td>\n",
    "        <td>0.385</td>\n",
    "    </tr>\n",
    "    <tr>\n",
    "        <td>DecisionTree</td>\n",
    "        <td>0.795</td>\n",
    "        <td>0.227</td>\n",
    "        <td>0.223</td>\n",
    "    </tr>\n",
    "</table>\n",
    "\n",
    "<b>What does it mean to tune the parameters of an algorithm, and what can happen if you don’t do this well?  How did you tune the parameters of your particular algorithm? What parameters did you tune? (Some algorithms do not have parameters that you need to tune -- if this is the case for the one you picked, identify and briefly explain how you would have done it for the model that was not your final choice or a different model that does utilize parameter tuning, e.g. a decision tree classifier).  [relevant rubric items: “discuss parameter tuning”, “tune the algorithm”]</b>\n",
    "\n",
    "O objetivo de 'tunar' o algoritimo é dar algumas premissas para que ele classifique melhor os dados de acordo com o que você precisa, se isso nâo acontecer direito, pode ocorrer de aparecer mais falsos positivos, além de uando realizar a validação, o algoritimo não vai ter uma boa avaliação e tambêm pode prejudicar a performance\n",
    "\n",
    "Para fazer isso, eu usei o GridSearchCV para avaliar os meus dados e selecionar os melhores parametros para o meu classificador \n",
    "o resultado foi modificar o meu classificador DecisionTree colocando:\n",
    "\n",
    "DecisionTreeClassifier(class_weight=None, criterion='gini', max_depth=8,\n",
    "            max_features=None, max_leaf_nodes=None,\n",
    "            min_impurity_decrease=0.0, min_impurity_split=None,\n",
    "            min_samples_leaf=1, min_samples_split=2,\n",
    "            min_weight_fraction_leaf=0.0, presort=False, random_state=None,\n",
    "            splitter='best')\n",
    "\n",
    "e no meu metodo de obter daods de test eu coloquei : random_state = 42\n",
    "\n",
    "<b>5. What is validation, and what’s a classic mistake you can make if you do it wrong? How did you validate your analysis? [relevant rubric items: “discuss validation”, “validation strategy”]</b>\n",
    "    \n",
    "A validação é um processo para separar uma coleção de dados de teste do modelo de dados treinados, aplicando um modelo selecionado no conjunto de testes, possibiliitando resutados mais precisos. \n",
    "\n",
    "Um erro comum é testar o classificador com dados que já foram trainados, neste caso sempre vai parecer que seu algoritimo está ótimo. \n",
    "\n",
    "Para validar minha analise, eu usei o método train_test_split, para separar um conjunto de dados de teste e após isso testar-los no meu classificador\n",
    "\n",
    "<b>6. Give at least 2 evaluation metrics and your average performance for each of them. Explain an interpretation of your metrics that says something human-understandable about your algorithm’s performance. [relevant rubric item: “usage of evaluation metrics”]</b>\n",
    "\n",
    "Eu utilizei accuracy, precision e recall para verificar os meus dados, no teste final, usando DecisionTree, os resultados foram:\n",
    "\n",
    "<!-- Fonte: http://scikit-learn.org/stable/auto_examples/model_selection/plot_precision_recall.html -->\n",
    "Precision é o numero de true positivos sobre o numero de true positivos mais o numero de falsos positivos.\n",
    "Recall é o numero de true positivos sobre o numero de true positivos mais o numero de falsos negtivos.\n",
    "\n",
    "\n",
    "<ul>\n",
    "    <li>Accuracy test:  0.83</li>\n",
    "    <li>Precision test:  0.36</li>\n",
    "    <li>Recall test:  0.34</li>\n",
    "</ul>\n",
    "\n",
    "\n",
    "A seguir é mostrado todo meu processo para realizar este trabalho"
   ]
  },
  {
   "cell_type": "code",
   "execution_count": 352,
   "metadata": {},
   "outputs": [],
   "source": [
    "import sys\n",
    "import pickle\n",
    "from pandas.tools.plotting import *\n",
    "import pandas as pd\n",
    "import numpy as np\n",
    "import os\n",
    "import matplotlib\n",
    "import matplotlib.pyplot as plt\n",
    "\n",
    "# separas as features entre financeiro e email\n",
    "financialFeatures= ['salary', 'deferral_payments', 'total_payments', 'loan_advances', 'bonus',\n",
    " 'restricted_stock_deferred', 'deferred_income', 'total_stock_value', 'expenses',\n",
    " 'exercised_stock_options', 'other', 'long_term_incentive', 'restricted_stock', 'director_fees']\n",
    "emailFeatures =  ['to_messages', 'from_poi_to_this_person', 'from_messages',\n",
    "                   'from_this_person_to_poi', 'shared_receipt_with_poi']"
   ]
  },
  {
   "cell_type": "code",
   "execution_count": 353,
   "metadata": {},
   "outputs": [],
   "source": [
    "sys.path.append(\"tools/\")\n",
    "sys.path.append(\"final_project/\")\n",
    "\n",
    "from feature_format import featureFormat, targetFeatureSplit"
   ]
  },
  {
   "cell_type": "code",
   "execution_count": 354,
   "metadata": {},
   "outputs": [],
   "source": [
    "# criar um dataframe a partir do arquivo pickle\n",
    "if os.path.getsize('final_project/final_project_dataset.pkl') > 0: \n",
    "    with open('final_project/final_project_dataset.pkl', \"rb\") as data_file:\n",
    "        df = pd.DataFrame(pd.read_pickle(data_file)).transpose()\n",
    "else:\n",
    "    print('Erro no arquivo')\n",
    "    \n",
    "with open('final_project/final_project_dataset.pkl', \"rb\") as data_file:\n",
    "    data_dict = pickle.load(data_file)"
   ]
  },
  {
   "cell_type": "code",
   "execution_count": 355,
   "metadata": {},
   "outputs": [
    {
     "data": {
      "text/html": [
       "<div>\n",
       "<style scoped>\n",
       "    .dataframe tbody tr th:only-of-type {\n",
       "        vertical-align: middle;\n",
       "    }\n",
       "\n",
       "    .dataframe tbody tr th {\n",
       "        vertical-align: top;\n",
       "    }\n",
       "\n",
       "    .dataframe thead th {\n",
       "        text-align: right;\n",
       "    }\n",
       "</style>\n",
       "<table border=\"1\" class=\"dataframe\">\n",
       "  <thead>\n",
       "    <tr style=\"text-align: right;\">\n",
       "      <th></th>\n",
       "      <th>bonus</th>\n",
       "      <th>deferral_payments</th>\n",
       "      <th>deferred_income</th>\n",
       "      <th>director_fees</th>\n",
       "      <th>email_address</th>\n",
       "      <th>exercised_stock_options</th>\n",
       "      <th>expenses</th>\n",
       "      <th>from_messages</th>\n",
       "      <th>from_poi_to_this_person</th>\n",
       "      <th>from_this_person_to_poi</th>\n",
       "      <th>...</th>\n",
       "      <th>long_term_incentive</th>\n",
       "      <th>other</th>\n",
       "      <th>poi</th>\n",
       "      <th>restricted_stock</th>\n",
       "      <th>restricted_stock_deferred</th>\n",
       "      <th>salary</th>\n",
       "      <th>shared_receipt_with_poi</th>\n",
       "      <th>to_messages</th>\n",
       "      <th>total_payments</th>\n",
       "      <th>total_stock_value</th>\n",
       "    </tr>\n",
       "  </thead>\n",
       "  <tbody>\n",
       "    <tr>\n",
       "      <th>ALLEN PHILLIP K</th>\n",
       "      <td>4175000</td>\n",
       "      <td>2869717</td>\n",
       "      <td>-3081055</td>\n",
       "      <td>NaN</td>\n",
       "      <td>phillip.allen@enron.com</td>\n",
       "      <td>1729541</td>\n",
       "      <td>13868</td>\n",
       "      <td>2195</td>\n",
       "      <td>47</td>\n",
       "      <td>65</td>\n",
       "      <td>...</td>\n",
       "      <td>304805</td>\n",
       "      <td>152</td>\n",
       "      <td>False</td>\n",
       "      <td>126027</td>\n",
       "      <td>-126027</td>\n",
       "      <td>201955</td>\n",
       "      <td>1407</td>\n",
       "      <td>2902</td>\n",
       "      <td>4484442</td>\n",
       "      <td>1729541</td>\n",
       "    </tr>\n",
       "    <tr>\n",
       "      <th>BADUM JAMES P</th>\n",
       "      <td>NaN</td>\n",
       "      <td>178980</td>\n",
       "      <td>NaN</td>\n",
       "      <td>NaN</td>\n",
       "      <td>NaN</td>\n",
       "      <td>257817</td>\n",
       "      <td>3486</td>\n",
       "      <td>NaN</td>\n",
       "      <td>NaN</td>\n",
       "      <td>NaN</td>\n",
       "      <td>...</td>\n",
       "      <td>NaN</td>\n",
       "      <td>NaN</td>\n",
       "      <td>False</td>\n",
       "      <td>NaN</td>\n",
       "      <td>NaN</td>\n",
       "      <td>NaN</td>\n",
       "      <td>NaN</td>\n",
       "      <td>NaN</td>\n",
       "      <td>182466</td>\n",
       "      <td>257817</td>\n",
       "    </tr>\n",
       "    <tr>\n",
       "      <th>BANNANTINE JAMES M</th>\n",
       "      <td>NaN</td>\n",
       "      <td>NaN</td>\n",
       "      <td>-5104</td>\n",
       "      <td>NaN</td>\n",
       "      <td>james.bannantine@enron.com</td>\n",
       "      <td>4046157</td>\n",
       "      <td>56301</td>\n",
       "      <td>29</td>\n",
       "      <td>39</td>\n",
       "      <td>0</td>\n",
       "      <td>...</td>\n",
       "      <td>NaN</td>\n",
       "      <td>864523</td>\n",
       "      <td>False</td>\n",
       "      <td>1757552</td>\n",
       "      <td>-560222</td>\n",
       "      <td>477</td>\n",
       "      <td>465</td>\n",
       "      <td>566</td>\n",
       "      <td>916197</td>\n",
       "      <td>5243487</td>\n",
       "    </tr>\n",
       "    <tr>\n",
       "      <th>BAXTER JOHN C</th>\n",
       "      <td>1200000</td>\n",
       "      <td>1295738</td>\n",
       "      <td>-1386055</td>\n",
       "      <td>NaN</td>\n",
       "      <td>NaN</td>\n",
       "      <td>6680544</td>\n",
       "      <td>11200</td>\n",
       "      <td>NaN</td>\n",
       "      <td>NaN</td>\n",
       "      <td>NaN</td>\n",
       "      <td>...</td>\n",
       "      <td>1586055</td>\n",
       "      <td>2660303</td>\n",
       "      <td>False</td>\n",
       "      <td>3942714</td>\n",
       "      <td>NaN</td>\n",
       "      <td>267102</td>\n",
       "      <td>NaN</td>\n",
       "      <td>NaN</td>\n",
       "      <td>5634343</td>\n",
       "      <td>10623258</td>\n",
       "    </tr>\n",
       "    <tr>\n",
       "      <th>BAY FRANKLIN R</th>\n",
       "      <td>400000</td>\n",
       "      <td>260455</td>\n",
       "      <td>-201641</td>\n",
       "      <td>NaN</td>\n",
       "      <td>frank.bay@enron.com</td>\n",
       "      <td>NaN</td>\n",
       "      <td>129142</td>\n",
       "      <td>NaN</td>\n",
       "      <td>NaN</td>\n",
       "      <td>NaN</td>\n",
       "      <td>...</td>\n",
       "      <td>NaN</td>\n",
       "      <td>69</td>\n",
       "      <td>False</td>\n",
       "      <td>145796</td>\n",
       "      <td>-82782</td>\n",
       "      <td>239671</td>\n",
       "      <td>NaN</td>\n",
       "      <td>NaN</td>\n",
       "      <td>827696</td>\n",
       "      <td>63014</td>\n",
       "    </tr>\n",
       "  </tbody>\n",
       "</table>\n",
       "<p>5 rows × 21 columns</p>\n",
       "</div>"
      ],
      "text/plain": [
       "                      bonus deferral_payments deferred_income director_fees  \\\n",
       "ALLEN PHILLIP K     4175000           2869717        -3081055           NaN   \n",
       "BADUM JAMES P           NaN            178980             NaN           NaN   \n",
       "BANNANTINE JAMES M      NaN               NaN           -5104           NaN   \n",
       "BAXTER JOHN C       1200000           1295738        -1386055           NaN   \n",
       "BAY FRANKLIN R       400000            260455         -201641           NaN   \n",
       "\n",
       "                                 email_address exercised_stock_options  \\\n",
       "ALLEN PHILLIP K        phillip.allen@enron.com                 1729541   \n",
       "BADUM JAMES P                              NaN                  257817   \n",
       "BANNANTINE JAMES M  james.bannantine@enron.com                 4046157   \n",
       "BAXTER JOHN C                              NaN                 6680544   \n",
       "BAY FRANKLIN R             frank.bay@enron.com                     NaN   \n",
       "\n",
       "                   expenses from_messages from_poi_to_this_person  \\\n",
       "ALLEN PHILLIP K       13868          2195                      47   \n",
       "BADUM JAMES P          3486           NaN                     NaN   \n",
       "BANNANTINE JAMES M    56301            29                      39   \n",
       "BAXTER JOHN C         11200           NaN                     NaN   \n",
       "BAY FRANKLIN R       129142           NaN                     NaN   \n",
       "\n",
       "                   from_this_person_to_poi        ...         \\\n",
       "ALLEN PHILLIP K                         65        ...          \n",
       "BADUM JAMES P                          NaN        ...          \n",
       "BANNANTINE JAMES M                       0        ...          \n",
       "BAXTER JOHN C                          NaN        ...          \n",
       "BAY FRANKLIN R                         NaN        ...          \n",
       "\n",
       "                   long_term_incentive    other    poi restricted_stock  \\\n",
       "ALLEN PHILLIP K                 304805      152  False           126027   \n",
       "BADUM JAMES P                      NaN      NaN  False              NaN   \n",
       "BANNANTINE JAMES M                 NaN   864523  False          1757552   \n",
       "BAXTER JOHN C                  1586055  2660303  False          3942714   \n",
       "BAY FRANKLIN R                     NaN       69  False           145796   \n",
       "\n",
       "                   restricted_stock_deferred  salary shared_receipt_with_poi  \\\n",
       "ALLEN PHILLIP K                      -126027  201955                    1407   \n",
       "BADUM JAMES P                            NaN     NaN                     NaN   \n",
       "BANNANTINE JAMES M                   -560222     477                     465   \n",
       "BAXTER JOHN C                            NaN  267102                     NaN   \n",
       "BAY FRANKLIN R                        -82782  239671                     NaN   \n",
       "\n",
       "                   to_messages total_payments total_stock_value  \n",
       "ALLEN PHILLIP K           2902        4484442           1729541  \n",
       "BADUM JAMES P              NaN         182466            257817  \n",
       "BANNANTINE JAMES M         566         916197           5243487  \n",
       "BAXTER JOHN C              NaN        5634343          10623258  \n",
       "BAY FRANKLIN R             NaN         827696             63014  \n",
       "\n",
       "[5 rows x 21 columns]"
      ]
     },
     "execution_count": 355,
     "metadata": {},
     "output_type": "execute_result"
    }
   ],
   "source": [
    "df.head(5)"
   ]
  },
  {
   "cell_type": "markdown",
   "metadata": {},
   "source": [
    "## Entendimento dos Dados e da Pergunta"
   ]
  },
  {
   "cell_type": "markdown",
   "metadata": {},
   "source": [
    "### Exploração"
   ]
  },
  {
   "cell_type": "code",
   "execution_count": 356,
   "metadata": {},
   "outputs": [],
   "source": [
    "# substituir os Nan pelo objeto do Nan do numpy para identificar possiveis nulos\n",
    "df = df.replace('NaN', np.NaN)\n",
    "\n",
    "allFeatures = ['poi', \n",
    "'bonus','deferral_payments',\n",
    "'deferred_income', 'director_fees','exercised_stock_options','expenses',\n",
    "'from_messages','from_poi_to_this_person','from_this_person_to_poi',\n",
    "'loan_advances','long_term_incentive','other','restricted_stock','restricted_stock_deferred', 'salary',\n",
    "'shared_receipt_with_poi','to_messages','total_payments','total_stock_value']"
   ]
  },
  {
   "cell_type": "code",
   "execution_count": 357,
   "metadata": {},
   "outputs": [
    {
     "data": {
      "text/html": [
       "<div>\n",
       "<style scoped>\n",
       "    .dataframe tbody tr th:only-of-type {\n",
       "        vertical-align: middle;\n",
       "    }\n",
       "\n",
       "    .dataframe tbody tr th {\n",
       "        vertical-align: top;\n",
       "    }\n",
       "\n",
       "    .dataframe thead th {\n",
       "        text-align: right;\n",
       "    }\n",
       "</style>\n",
       "<table border=\"1\" class=\"dataframe\">\n",
       "  <thead>\n",
       "    <tr style=\"text-align: right;\">\n",
       "      <th></th>\n",
       "      <th>bonus</th>\n",
       "      <th>deferral_payments</th>\n",
       "      <th>deferred_income</th>\n",
       "      <th>director_fees</th>\n",
       "      <th>exercised_stock_options</th>\n",
       "      <th>expenses</th>\n",
       "      <th>from_messages</th>\n",
       "      <th>from_poi_to_this_person</th>\n",
       "      <th>from_this_person_to_poi</th>\n",
       "      <th>loan_advances</th>\n",
       "      <th>long_term_incentive</th>\n",
       "      <th>other</th>\n",
       "      <th>restricted_stock</th>\n",
       "      <th>restricted_stock_deferred</th>\n",
       "      <th>salary</th>\n",
       "      <th>shared_receipt_with_poi</th>\n",
       "      <th>to_messages</th>\n",
       "      <th>total_payments</th>\n",
       "      <th>total_stock_value</th>\n",
       "    </tr>\n",
       "  </thead>\n",
       "  <tbody>\n",
       "    <tr>\n",
       "      <th>count</th>\n",
       "      <td>8.200000e+01</td>\n",
       "      <td>3.900000e+01</td>\n",
       "      <td>4.900000e+01</td>\n",
       "      <td>1.700000e+01</td>\n",
       "      <td>1.020000e+02</td>\n",
       "      <td>9.500000e+01</td>\n",
       "      <td>86.000000</td>\n",
       "      <td>86.000000</td>\n",
       "      <td>86.000000</td>\n",
       "      <td>4.000000e+00</td>\n",
       "      <td>6.600000e+01</td>\n",
       "      <td>9.300000e+01</td>\n",
       "      <td>1.100000e+02</td>\n",
       "      <td>1.800000e+01</td>\n",
       "      <td>9.500000e+01</td>\n",
       "      <td>86.000000</td>\n",
       "      <td>86.000000</td>\n",
       "      <td>1.250000e+02</td>\n",
       "      <td>1.260000e+02</td>\n",
       "    </tr>\n",
       "    <tr>\n",
       "      <th>mean</th>\n",
       "      <td>2.374235e+06</td>\n",
       "      <td>1.642674e+06</td>\n",
       "      <td>-1.140475e+06</td>\n",
       "      <td>1.668049e+05</td>\n",
       "      <td>5.987054e+06</td>\n",
       "      <td>1.087289e+05</td>\n",
       "      <td>608.790698</td>\n",
       "      <td>64.895349</td>\n",
       "      <td>41.232558</td>\n",
       "      <td>4.196250e+07</td>\n",
       "      <td>1.470361e+06</td>\n",
       "      <td>9.190650e+05</td>\n",
       "      <td>2.321741e+06</td>\n",
       "      <td>1.664106e+05</td>\n",
       "      <td>5.621943e+05</td>\n",
       "      <td>1176.465116</td>\n",
       "      <td>2073.860465</td>\n",
       "      <td>5.081526e+06</td>\n",
       "      <td>6.773957e+06</td>\n",
       "    </tr>\n",
       "    <tr>\n",
       "      <th>std</th>\n",
       "      <td>1.071333e+07</td>\n",
       "      <td>5.161930e+06</td>\n",
       "      <td>4.025406e+06</td>\n",
       "      <td>3.198914e+05</td>\n",
       "      <td>3.106201e+07</td>\n",
       "      <td>5.335348e+05</td>\n",
       "      <td>1841.033949</td>\n",
       "      <td>86.979244</td>\n",
       "      <td>100.073111</td>\n",
       "      <td>4.708321e+07</td>\n",
       "      <td>5.942759e+06</td>\n",
       "      <td>4.589253e+06</td>\n",
       "      <td>1.251828e+07</td>\n",
       "      <td>4.201494e+06</td>\n",
       "      <td>2.716369e+06</td>\n",
       "      <td>1178.317641</td>\n",
       "      <td>2582.700981</td>\n",
       "      <td>2.906172e+07</td>\n",
       "      <td>3.895777e+07</td>\n",
       "    </tr>\n",
       "    <tr>\n",
       "      <th>min</th>\n",
       "      <td>7.000000e+04</td>\n",
       "      <td>-1.025000e+05</td>\n",
       "      <td>-2.799289e+07</td>\n",
       "      <td>3.285000e+03</td>\n",
       "      <td>3.285000e+03</td>\n",
       "      <td>1.480000e+02</td>\n",
       "      <td>12.000000</td>\n",
       "      <td>0.000000</td>\n",
       "      <td>0.000000</td>\n",
       "      <td>4.000000e+05</td>\n",
       "      <td>6.922300e+04</td>\n",
       "      <td>2.000000e+00</td>\n",
       "      <td>-2.604490e+06</td>\n",
       "      <td>-7.576788e+06</td>\n",
       "      <td>4.770000e+02</td>\n",
       "      <td>2.000000</td>\n",
       "      <td>57.000000</td>\n",
       "      <td>1.480000e+02</td>\n",
       "      <td>-4.409300e+04</td>\n",
       "    </tr>\n",
       "    <tr>\n",
       "      <th>25%</th>\n",
       "      <td>4.312500e+05</td>\n",
       "      <td>8.157300e+04</td>\n",
       "      <td>-6.948620e+05</td>\n",
       "      <td>9.878400e+04</td>\n",
       "      <td>5.278862e+05</td>\n",
       "      <td>2.261400e+04</td>\n",
       "      <td>22.750000</td>\n",
       "      <td>10.000000</td>\n",
       "      <td>1.000000</td>\n",
       "      <td>1.600000e+06</td>\n",
       "      <td>2.812500e+05</td>\n",
       "      <td>1.215000e+03</td>\n",
       "      <td>2.540180e+05</td>\n",
       "      <td>-3.896218e+05</td>\n",
       "      <td>2.118160e+05</td>\n",
       "      <td>249.750000</td>\n",
       "      <td>541.250000</td>\n",
       "      <td>3.944750e+05</td>\n",
       "      <td>4.945102e+05</td>\n",
       "    </tr>\n",
       "    <tr>\n",
       "      <th>50%</th>\n",
       "      <td>7.693750e+05</td>\n",
       "      <td>2.274490e+05</td>\n",
       "      <td>-1.597920e+05</td>\n",
       "      <td>1.085790e+05</td>\n",
       "      <td>1.310814e+06</td>\n",
       "      <td>4.695000e+04</td>\n",
       "      <td>41.000000</td>\n",
       "      <td>35.000000</td>\n",
       "      <td>8.000000</td>\n",
       "      <td>4.176250e+07</td>\n",
       "      <td>4.420350e+05</td>\n",
       "      <td>5.238200e+04</td>\n",
       "      <td>4.517400e+05</td>\n",
       "      <td>-1.469750e+05</td>\n",
       "      <td>2.599960e+05</td>\n",
       "      <td>740.500000</td>\n",
       "      <td>1211.000000</td>\n",
       "      <td>1.101393e+06</td>\n",
       "      <td>1.102872e+06</td>\n",
       "    </tr>\n",
       "    <tr>\n",
       "      <th>75%</th>\n",
       "      <td>1.200000e+06</td>\n",
       "      <td>1.002672e+06</td>\n",
       "      <td>-3.834600e+04</td>\n",
       "      <td>1.137840e+05</td>\n",
       "      <td>2.547724e+06</td>\n",
       "      <td>7.995250e+04</td>\n",
       "      <td>145.500000</td>\n",
       "      <td>72.250000</td>\n",
       "      <td>24.750000</td>\n",
       "      <td>8.212500e+07</td>\n",
       "      <td>9.386720e+05</td>\n",
       "      <td>3.620960e+05</td>\n",
       "      <td>1.002370e+06</td>\n",
       "      <td>-7.500975e+04</td>\n",
       "      <td>3.121170e+05</td>\n",
       "      <td>1888.250000</td>\n",
       "      <td>2634.750000</td>\n",
       "      <td>2.093263e+06</td>\n",
       "      <td>2.949847e+06</td>\n",
       "    </tr>\n",
       "    <tr>\n",
       "      <th>max</th>\n",
       "      <td>9.734362e+07</td>\n",
       "      <td>3.208340e+07</td>\n",
       "      <td>-8.330000e+02</td>\n",
       "      <td>1.398517e+06</td>\n",
       "      <td>3.117640e+08</td>\n",
       "      <td>5.235198e+06</td>\n",
       "      <td>14368.000000</td>\n",
       "      <td>528.000000</td>\n",
       "      <td>609.000000</td>\n",
       "      <td>8.392500e+07</td>\n",
       "      <td>4.852193e+07</td>\n",
       "      <td>4.266759e+07</td>\n",
       "      <td>1.303223e+08</td>\n",
       "      <td>1.545629e+07</td>\n",
       "      <td>2.670423e+07</td>\n",
       "      <td>5521.000000</td>\n",
       "      <td>15149.000000</td>\n",
       "      <td>3.098866e+08</td>\n",
       "      <td>4.345095e+08</td>\n",
       "    </tr>\n",
       "  </tbody>\n",
       "</table>\n",
       "</div>"
      ],
      "text/plain": [
       "              bonus  deferral_payments  deferred_income  director_fees  \\\n",
       "count  8.200000e+01       3.900000e+01     4.900000e+01   1.700000e+01   \n",
       "mean   2.374235e+06       1.642674e+06    -1.140475e+06   1.668049e+05   \n",
       "std    1.071333e+07       5.161930e+06     4.025406e+06   3.198914e+05   \n",
       "min    7.000000e+04      -1.025000e+05    -2.799289e+07   3.285000e+03   \n",
       "25%    4.312500e+05       8.157300e+04    -6.948620e+05   9.878400e+04   \n",
       "50%    7.693750e+05       2.274490e+05    -1.597920e+05   1.085790e+05   \n",
       "75%    1.200000e+06       1.002672e+06    -3.834600e+04   1.137840e+05   \n",
       "max    9.734362e+07       3.208340e+07    -8.330000e+02   1.398517e+06   \n",
       "\n",
       "       exercised_stock_options      expenses  from_messages  \\\n",
       "count             1.020000e+02  9.500000e+01      86.000000   \n",
       "mean              5.987054e+06  1.087289e+05     608.790698   \n",
       "std               3.106201e+07  5.335348e+05    1841.033949   \n",
       "min               3.285000e+03  1.480000e+02      12.000000   \n",
       "25%               5.278862e+05  2.261400e+04      22.750000   \n",
       "50%               1.310814e+06  4.695000e+04      41.000000   \n",
       "75%               2.547724e+06  7.995250e+04     145.500000   \n",
       "max               3.117640e+08  5.235198e+06   14368.000000   \n",
       "\n",
       "       from_poi_to_this_person  from_this_person_to_poi  loan_advances  \\\n",
       "count                86.000000                86.000000   4.000000e+00   \n",
       "mean                 64.895349                41.232558   4.196250e+07   \n",
       "std                  86.979244               100.073111   4.708321e+07   \n",
       "min                   0.000000                 0.000000   4.000000e+05   \n",
       "25%                  10.000000                 1.000000   1.600000e+06   \n",
       "50%                  35.000000                 8.000000   4.176250e+07   \n",
       "75%                  72.250000                24.750000   8.212500e+07   \n",
       "max                 528.000000               609.000000   8.392500e+07   \n",
       "\n",
       "       long_term_incentive         other  restricted_stock  \\\n",
       "count         6.600000e+01  9.300000e+01      1.100000e+02   \n",
       "mean          1.470361e+06  9.190650e+05      2.321741e+06   \n",
       "std           5.942759e+06  4.589253e+06      1.251828e+07   \n",
       "min           6.922300e+04  2.000000e+00     -2.604490e+06   \n",
       "25%           2.812500e+05  1.215000e+03      2.540180e+05   \n",
       "50%           4.420350e+05  5.238200e+04      4.517400e+05   \n",
       "75%           9.386720e+05  3.620960e+05      1.002370e+06   \n",
       "max           4.852193e+07  4.266759e+07      1.303223e+08   \n",
       "\n",
       "       restricted_stock_deferred        salary  shared_receipt_with_poi  \\\n",
       "count               1.800000e+01  9.500000e+01                86.000000   \n",
       "mean                1.664106e+05  5.621943e+05              1176.465116   \n",
       "std                 4.201494e+06  2.716369e+06              1178.317641   \n",
       "min                -7.576788e+06  4.770000e+02                 2.000000   \n",
       "25%                -3.896218e+05  2.118160e+05               249.750000   \n",
       "50%                -1.469750e+05  2.599960e+05               740.500000   \n",
       "75%                -7.500975e+04  3.121170e+05              1888.250000   \n",
       "max                 1.545629e+07  2.670423e+07              5521.000000   \n",
       "\n",
       "        to_messages  total_payments  total_stock_value  \n",
       "count     86.000000    1.250000e+02       1.260000e+02  \n",
       "mean    2073.860465    5.081526e+06       6.773957e+06  \n",
       "std     2582.700981    2.906172e+07       3.895777e+07  \n",
       "min       57.000000    1.480000e+02      -4.409300e+04  \n",
       "25%      541.250000    3.944750e+05       4.945102e+05  \n",
       "50%     1211.000000    1.101393e+06       1.102872e+06  \n",
       "75%     2634.750000    2.093263e+06       2.949847e+06  \n",
       "max    15149.000000    3.098866e+08       4.345095e+08  "
      ]
     },
     "execution_count": 357,
     "metadata": {},
     "output_type": "execute_result"
    }
   ],
   "source": [
    "df.describe()"
   ]
  },
  {
   "cell_type": "code",
   "execution_count": 358,
   "metadata": {},
   "outputs": [
    {
     "name": "stdout",
     "output_type": "stream",
     "text": [
      "<class 'pandas.core.frame.DataFrame'>\n",
      "Index: 146 entries, ALLEN PHILLIP K to YEAP SOON\n",
      "Data columns (total 21 columns):\n",
      "bonus                        82 non-null float64\n",
      "deferral_payments            39 non-null float64\n",
      "deferred_income              49 non-null float64\n",
      "director_fees                17 non-null float64\n",
      "email_address                111 non-null object\n",
      "exercised_stock_options      102 non-null float64\n",
      "expenses                     95 non-null float64\n",
      "from_messages                86 non-null float64\n",
      "from_poi_to_this_person      86 non-null float64\n",
      "from_this_person_to_poi      86 non-null float64\n",
      "loan_advances                4 non-null float64\n",
      "long_term_incentive          66 non-null float64\n",
      "other                        93 non-null float64\n",
      "poi                          146 non-null bool\n",
      "restricted_stock             110 non-null float64\n",
      "restricted_stock_deferred    18 non-null float64\n",
      "salary                       95 non-null float64\n",
      "shared_receipt_with_poi      86 non-null float64\n",
      "to_messages                  86 non-null float64\n",
      "total_payments               125 non-null float64\n",
      "total_stock_value            126 non-null float64\n",
      "dtypes: bool(1), float64(19), object(1)\n",
      "memory usage: 24.1+ KB\n"
     ]
    }
   ],
   "source": [
    "#usar o info pra contar quantas informações nulas tem\n",
    "df.info()"
   ]
  },
  {
   "cell_type": "markdown",
   "metadata": {},
   "source": [
    "Agora responder as seguintes perguntas:\n",
    "<ul>\n",
    "    <li>número total de data points</li>\n",
    "    <li>alocação entre classes (POI/non-POI)</li>\n",
    "    <li>número de características usadas</li>\n",
    "    <li>existem características com muitos valores faltando? etc.</li>\n",
    "</ul>"
   ]
  },
  {
   "cell_type": "code",
   "execution_count": 359,
   "metadata": {},
   "outputs": [
    {
     "name": "stdout",
     "output_type": "stream",
     "text": [
      "Nº de Datapoints: 146\n",
      "Nº de Caracteristicas: 20\n",
      "Nº de POI: 18\n",
      "Nº de non-POI: 128\n",
      "Nº de caracteristicas usadas: 22\n"
     ]
    }
   ],
   "source": [
    "# numero de datapoints\n",
    "print(\"Nº de Datapoints: \" + str(len(df)))\n",
    "# numero de Caracteristicas\n",
    "print(\"Nº de Caracteristicas: \" + str(len(df.columns) - 1))\n",
    "# numero de Poi\n",
    "print(\"Nº de POI: \" + str(len(df[df['poi'] == 1])))\n",
    "#numero de npoi\n",
    "print(\"Nº de non-POI: \" + str(len(df[df['poi'] == 0])))\n",
    "#numero de features usadas\n",
    "print(\"Nº de caracteristicas usadas: \" + str(len(df.columns) + 1))"
   ]
  },
  {
   "cell_type": "markdown",
   "metadata": {},
   "source": [
    "Pela analise dos dados que temos, Muitos dados estão faltando, e a maioria dos dados são numericos"
   ]
  },
  {
   "cell_type": "code",
   "execution_count": 360,
   "metadata": {},
   "outputs": [
    {
     "data": {
      "text/plain": [
       "<matplotlib.axes._subplots.AxesSubplot at 0x1e802367c88>"
      ]
     },
     "execution_count": 360,
     "metadata": {},
     "output_type": "execute_result"
    },
    {
     "data": {
      "image/png": "[encoded data removed]",
      "text/plain": [
       "<matplotlib.figure.Figure at 0x1e803b20c88>"
      ]
     },
     "metadata": {},
     "output_type": "display_data"
    }
   ],
   "source": [
    "#plotar o numero de informações nulas do projeto\n",
    "summary = df.describe().transpose()\n",
    "summary['data_missing'] = (146 - summary['count'])/146\n",
    "summary[['data_missing']].plot(kind='barh',figsize=(6, 6))"
   ]
  },
  {
   "cell_type": "code",
   "execution_count": 361,
   "metadata": {},
   "outputs": [],
   "source": [
    "def transform_null(dataframe,financialFeatures,emailFeatures):\n",
    "    for feature in dataframe.columns:\n",
    "        if feature in financialFeatures:\n",
    "            dataframe[feature] = dataframe[feature].fillna(0)\n",
    "        elif feature in emailFeatures:\n",
    "            mean = dataframe[feature].mean()\n",
    "            dataframe[feature] = dataframe[feature].fillna(mean)\n",
    "    \n",
    "    return dataframe\n",
    "\n",
    "def convert_to_NaNs(dataframe):\n",
    "    for col in dataframe.columns:\n",
    "        dataframe[col] = dataframe[col].apply(lambda x: np.nan if str(x).strip()=='NaN' else x)\n",
    "    \n",
    "    nullByRow,nullByColumn = (nullValues(dataframe))\n",
    "    \n",
    "    return dataframe,nullByRow,nullByColumn\n",
    "   \n",
    "def nullValues(dataframe):\n",
    "    nullByRow = dataframe.isnull().sum(axis=1)\n",
    "    nullByColumn = dataframe.isnull().sum(axis=0)\n",
    "    \n",
    "    \n",
    "    return nullByRow,nullByColumn\n",
    " \n",
    "def inspect_data(dataframe):\n",
    "    print('There are {} features, and {} persons in the enron data \\n'.format(len(dataframe.columns),len(dataframe.index)))\n",
    "    \n",
    "    poi_npoi = dataframe['poi'].value_counts().to_dict()\n",
    "    print('Of the {} persons, {} are classified as Persons of Interest \\n'.format(len(dataframe.index),poi_npoi[True]))\n",
    "    \n",
    "    dataframe, nullrows,nullcolumns =convert_to_NaNs(df)\n",
    "    print('The following columns: \\n {} have null values greater than 100 \\n'.format(nullcolumns[nullcolumns>100]))\n",
    "    print('The following rows: \\n {} \\n have null values greater than 15 \\n'.format(nullrows[nullrows>15]))\n",
    "\n",
    "    return dataframe\n",
    "\n",
    "# popular os nulos do projeto\n",
    "data = transform_null(df,financialFeatures,emailFeatures)"
   ]
  },
  {
   "cell_type": "code",
   "execution_count": 362,
   "metadata": {},
   "outputs": [
    {
     "data": {
      "text/plain": [
       "<matplotlib.axes._subplots.AxesSubplot at 0x1e805104a58>"
      ]
     },
     "execution_count": 362,
     "metadata": {},
     "output_type": "execute_result"
    },
    {
     "data": {
      "image/png": "[encoded data removed]",
      "text/plain": [
       "<matplotlib.figure.Figure at 0x1e805124940>"
      ]
     },
     "metadata": {},
     "output_type": "display_data"
    }
   ],
   "source": [
    "#plotar novamente para verificar se existe nulos \n",
    "summary = df.describe().transpose()\n",
    "summary['data_missing'] = (146 - summary['count'])/146\n",
    "summary[['data_missing']].plot(kind='barh',figsize=(6, 6))"
   ]
  },
  {
   "cell_type": "markdown",
   "metadata": {},
   "source": [
    "### Identificação de outliers\n",
    "\n",
    "Vamos comparar uns dados para encontrar possiveis outliers, primeiro ver salario e bonus"
   ]
  },
  {
   "cell_type": "code",
   "execution_count": 363,
   "metadata": {},
   "outputs": [
    {
     "data": {
      "image/png": "[encoded data removed]",
      "text/plain": [
       "<matplotlib.figure.Figure at 0x1e80518c630>"
      ]
     },
     "metadata": {},
     "output_type": "display_data"
    }
   ],
   "source": [
    "#fazer um plot entre salário e bonus para indentificar possiveis outliers\n",
    "df.plot.scatter('salary', 'bonus', figsize=(6, 6));"
   ]
  },
  {
   "cell_type": "markdown",
   "metadata": {},
   "source": [
    "Parece que existem outliser aqui, neste caso precisamos remove-los"
   ]
  },
  {
   "cell_type": "code",
   "execution_count": 364,
   "metadata": {},
   "outputs": [
    {
     "data": {
      "text/html": [
       "<div>\n",
       "<style scoped>\n",
       "    .dataframe tbody tr th:only-of-type {\n",
       "        vertical-align: middle;\n",
       "    }\n",
       "\n",
       "    .dataframe tbody tr th {\n",
       "        vertical-align: top;\n",
       "    }\n",
       "\n",
       "    .dataframe thead th {\n",
       "        text-align: right;\n",
       "    }\n",
       "</style>\n",
       "<table border=\"1\" class=\"dataframe\">\n",
       "  <thead>\n",
       "    <tr style=\"text-align: right;\">\n",
       "      <th></th>\n",
       "      <th>bonus</th>\n",
       "      <th>deferral_payments</th>\n",
       "      <th>deferred_income</th>\n",
       "      <th>director_fees</th>\n",
       "      <th>email_address</th>\n",
       "      <th>exercised_stock_options</th>\n",
       "      <th>expenses</th>\n",
       "      <th>from_messages</th>\n",
       "      <th>from_poi_to_this_person</th>\n",
       "      <th>from_this_person_to_poi</th>\n",
       "      <th>...</th>\n",
       "      <th>long_term_incentive</th>\n",
       "      <th>other</th>\n",
       "      <th>poi</th>\n",
       "      <th>restricted_stock</th>\n",
       "      <th>restricted_stock_deferred</th>\n",
       "      <th>salary</th>\n",
       "      <th>shared_receipt_with_poi</th>\n",
       "      <th>to_messages</th>\n",
       "      <th>total_payments</th>\n",
       "      <th>total_stock_value</th>\n",
       "    </tr>\n",
       "  </thead>\n",
       "  <tbody>\n",
       "    <tr>\n",
       "      <th>TOTAL</th>\n",
       "      <td>97343619.0</td>\n",
       "      <td>32083396.0</td>\n",
       "      <td>-27992891.0</td>\n",
       "      <td>1398517.0</td>\n",
       "      <td>NaN</td>\n",
       "      <td>311764000.0</td>\n",
       "      <td>5235198.0</td>\n",
       "      <td>608.790698</td>\n",
       "      <td>64.895349</td>\n",
       "      <td>41.232558</td>\n",
       "      <td>...</td>\n",
       "      <td>48521928.0</td>\n",
       "      <td>42667589.0</td>\n",
       "      <td>False</td>\n",
       "      <td>130322299.0</td>\n",
       "      <td>-7576788.0</td>\n",
       "      <td>26704229.0</td>\n",
       "      <td>1176.465116</td>\n",
       "      <td>2073.860465</td>\n",
       "      <td>309886585.0</td>\n",
       "      <td>434509511.0</td>\n",
       "    </tr>\n",
       "  </tbody>\n",
       "</table>\n",
       "<p>1 rows × 21 columns</p>\n",
       "</div>"
      ],
      "text/plain": [
       "            bonus  deferral_payments  deferred_income  director_fees  \\\n",
       "TOTAL  97343619.0         32083396.0      -27992891.0      1398517.0   \n",
       "\n",
       "      email_address  exercised_stock_options   expenses  from_messages  \\\n",
       "TOTAL           NaN              311764000.0  5235198.0     608.790698   \n",
       "\n",
       "       from_poi_to_this_person  from_this_person_to_poi        ...          \\\n",
       "TOTAL                64.895349                41.232558        ...           \n",
       "\n",
       "       long_term_incentive       other    poi  restricted_stock  \\\n",
       "TOTAL           48521928.0  42667589.0  False       130322299.0   \n",
       "\n",
       "       restricted_stock_deferred      salary  shared_receipt_with_poi  \\\n",
       "TOTAL                 -7576788.0  26704229.0              1176.465116   \n",
       "\n",
       "       to_messages  total_payments  total_stock_value  \n",
       "TOTAL  2073.860465     309886585.0        434509511.0  \n",
       "\n",
       "[1 rows x 21 columns]"
      ]
     },
     "execution_count": 364,
     "metadata": {},
     "output_type": "execute_result"
    }
   ],
   "source": [
    "#Selecionar o outlier\n",
    "df.loc[df['salary'] > 0.8 * 1e7]"
   ]
  },
  {
   "cell_type": "code",
   "execution_count": 365,
   "metadata": {},
   "outputs": [],
   "source": [
    "#Remover o outlier\n",
    "df.drop(['LOCKHART EUGENE E','THE TRAVEL AGENCY IN THE PARK','TOTAL'],inplace=True)"
   ]
  },
  {
   "cell_type": "code",
   "execution_count": 366,
   "metadata": {},
   "outputs": [
    {
     "data": {
      "image/png": "[encoded data removed]",
      "text/plain": [
       "<matplotlib.figure.Figure at 0x1e8051d4710>"
      ]
     },
     "metadata": {},
     "output_type": "display_data"
    }
   ],
   "source": [
    "#Explorar novamente\n",
    "df.plot.scatter('salary', 'bonus', figsize=(6, 6));"
   ]
  },
  {
   "cell_type": "markdown",
   "metadata": {},
   "source": [
    "### Otimização da Seleção de Características/Engenharia"
   ]
  },
  {
   "cell_type": "code",
   "execution_count": 367,
   "metadata": {},
   "outputs": [],
   "source": [
    "PERF_FORMAT_STRING = \"\\\n",
    "\\tAccuracy: {:>0.{display_precision}f}\\tPrecision: {:>0.{display_precision}f}\\t\\\n",
    "Recall: {:>0.{display_precision}f}\\tF1: {:>0.{display_precision}f}\\tF2: {:>0.{display_precision}f}\"\n",
    "RESULTS_FORMAT_STRING = \"\\tTotal predictions: {:4d}\\tTrue positives: {:4d}\\tFalse positives: {:4d}\\\n",
    "\\tFalse negatives: {:4d}\\tTrue negatives: {:4d}\"\n",
    "from sklearn.datasets import make_classification\n",
    "from sklearn.model_selection import StratifiedShuffleSplit\n",
    "\n",
    "def my_test_classifier(clf, dataset, feature_list, folds = 1000):\n",
    "    data = featureFormat(dataset, feature_list, sort_keys = True)\n",
    "    X, y = make_classification()\n",
    "    #y, X = targetFeatureSplit(data)\n",
    "    #X = np.array(X)\n",
    "    #y = np.array(y)\n",
    "    X_train, X_test, y_train, y_test = train_test_split(X, y, test_size = 0.3, random_state = 42)\n",
    "    true_negatives = 0\n",
    "    false_negatives = 0\n",
    "    true_positives = 0\n",
    "    false_positives = 0\n",
    "    features_train = X_train\n",
    "    features_test  = X_test\n",
    "    labels_train   = y_train\n",
    "    labels_test    = y_test\n",
    "        \n",
    "    ### fit the classifier using training set, and test on test set\n",
    "    clf.fit(features_train, labels_train)\n",
    "    predictions = clf.predict(features_test)\n",
    "    for prediction, truth in zip(predictions, labels_test):\n",
    "        if prediction == 0 and truth == 0:\n",
    "            true_negatives += 1\n",
    "        elif prediction == 0 and truth == 1:\n",
    "            false_negatives += 1\n",
    "        elif prediction == 1 and truth == 0:\n",
    "            false_positives += 1\n",
    "        elif prediction == 1 and truth == 1:\n",
    "            true_positives += 1\n",
    "        else:\n",
    "            print (\"Warning: Found a predicted label not == 0 or 1.\")\n",
    "            print (\"All predictions should take value 0 or 1.\")\n",
    "            print (\"Evaluating performance for processed predictions:\")\n",
    "            break\n",
    "    try:\n",
    "        total_predictions = true_negatives + false_negatives + false_positives + true_positives\n",
    "        accuracy = 1.0*(true_positives + true_negatives)/total_predictions\n",
    "        precision = 1.0*true_positives/(true_positives+false_positives)\n",
    "        recall = 1.0*true_positives/(true_positives+false_negatives)\n",
    "        f1 = 2.0 * true_positives/(2*true_positives + false_positives+false_negatives)\n",
    "        f2 = (1+2.0*2.0) * precision*recall/(4*precision + recall)\n",
    "        print (clf)\n",
    "        print (PERF_FORMAT_STRING.format(accuracy, precision, recall, f1, f2, display_precision = 5))\n",
    "        print (RESULTS_FORMAT_STRING.format(total_predictions, true_positives, false_positives, false_negatives, true_negatives))\n",
    "        print (\"\")\n",
    "    except:\n",
    "        print (\"Got a divide by zero when trying out:\", clf)\n",
    "        print (\"Precision or recall may be undefined due to a lack of true positive predicitons.\")\n",
    "\n",
    "def test_classifier(clf, dataset, feature_list, folds = 0.5):\n",
    "    data = featureFormat(dataset, feature_list, sort_keys = True)\n",
    "    labels, features = targetFeatureSplit(data)\n",
    "    labels = np.array(labels)\n",
    "    features = np.array(features)\n",
    "    cv = StratifiedShuffleSplit(n_splits=1000, random_state=42)\n",
    "    true_negatives = 0\n",
    "    false_negatives = 0\n",
    "    true_positives = 0\n",
    "    false_positives = 0\n",
    "    for train_idx, test_idx in cv.split(data, labels): \n",
    "        features_train = []\n",
    "        features_test  = []\n",
    "        labels_train   = []\n",
    "        labels_test    = []\n",
    "        for ii in train_idx:\n",
    "            features_train.append( features[ii] )\n",
    "            labels_train.append( labels[ii] )\n",
    "        for jj in test_idx:\n",
    "            features_test.append( features[jj] )\n",
    "            labels_test.append( labels[jj] )\n",
    "        \n",
    "        ### fit the classifier using training set, and test on test set\n",
    "        clf.fit(features_train, labels_train)\n",
    "        predictions = clf.predict(features_test)\n",
    "        for prediction, truth in zip(predictions, labels_test):\n",
    "            if prediction == 0 and truth == 0:\n",
    "                true_negatives += 1\n",
    "            elif prediction == 0 and truth == 1:\n",
    "                false_negatives += 1\n",
    "            elif prediction == 1 and truth == 0:\n",
    "                false_positives += 1\n",
    "            elif prediction == 1 and truth == 1:\n",
    "                true_positives += 1\n",
    "            else:\n",
    "                print (\"Warning: Found a predicted label not == 0 or 1.\")\n",
    "                print (\"All predictions should take value 0 or 1.\")\n",
    "                print (\"Evaluating performance for processed predictions:\")\n",
    "                break\n",
    "    try:\n",
    "        total_predictions = true_negatives + false_negatives + false_positives + true_positives\n",
    "        accuracy = 1.0*(true_positives + true_negatives)/total_predictions\n",
    "        precision = 1.0*true_positives/(true_positives+false_positives)\n",
    "        recall = 1.0*true_positives/(true_positives+false_negatives)\n",
    "        f1 = 2.0 * true_positives/(2*true_positives + false_positives+false_negatives)\n",
    "        f2 = (1+2.0*2.0) * precision*recall/(4*precision + recall)\n",
    "        print (clf)\n",
    "        print (PERF_FORMAT_STRING.format(accuracy, precision, recall, f1, f2, display_precision = 5))\n",
    "        print (RESULTS_FORMAT_STRING.format(total_predictions, true_positives, false_positives, false_negatives, true_negatives))\n",
    "        print (\"\")\n",
    "    except:\n",
    "        print (\"Got a divide by zero when trying out:\", clf)\n",
    "        print (\"Precision or recall may be undefined due to a lack of true positive predicitons.\")"
   ]
  },
  {
   "cell_type": "code",
   "execution_count": 368,
   "metadata": {},
   "outputs": [],
   "source": [
    "from sklearn.model_selection import GridSearchCV, train_test_split\n",
    "from sklearn.naive_bayes import GaussianNB\n",
    "from sklearn.metrics import accuracy_score, f1_score, precision_score, recall_score, classification_report, confusion_matrix,average_precision_score\n",
    "from sklearn.feature_selection import SelectKBest, f_regression\n",
    "\n",
    "features_list = np.array(allFeatures, copy=True)  \n",
    "\n",
    "#converter o dataframe em um dicionário\n",
    "data_dict = df.to_dict(orient='index')\n",
    "\n",
    "#copiar o dicionário para nao mexer nos dados caso venha a ter algum problema\n",
    "my_dataset = data_dict\n",
    "data = featureFormat(my_dataset, features_list, sort_keys=True)\n",
    "\n",
    "#Separar o target das features\n",
    "y, X = targetFeatureSplit(data)\n",
    "X = np.array(X)\n",
    "y = np.array(y)\n",
    "\n",
    "#treinar meus dados\n",
    "X_train, X_test, y_train, y_test = train_test_split(X, y, test_size = 0.5, random_state = 100)"
   ]
  },
  {
   "cell_type": "markdown",
   "metadata": {},
   "source": [
    "### Naive Bayes"
   ]
  },
  {
   "cell_type": "code",
   "execution_count": 369,
   "metadata": {},
   "outputs": [
    {
     "name": "stdout",
     "output_type": "stream",
     "text": [
      "Accuracy:  0.8251748251748252\n",
      "Precision:  0.36\n",
      "Recall:  0.5\n",
      "GaussianNB(priors=None, var_smoothing=1e-09)\n",
      "\tAccuracy: 0.73973\tPrecision: 0.22374\tRecall: 0.38550\tF1: 0.28314\tF2: 0.33680\n",
      "\tTotal predictions: 15000\tTrue positives:  771\tFalse positives: 2675\tFalse negatives: 1229\tTrue negatives: 10325\n",
      "\n"
     ]
    }
   ],
   "source": [
    "#naive bayes\n",
    "clf = GaussianNB()\n",
    "clf.fit(X, y)\n",
    "y_pred = clf.predict(X)\n",
    "\n",
    "# Avaliação, fonte: https://stackoverflow.com/questions/31421413/how-to-compute-precision-recall-accuracy-and-f1-score-for-the-multiclass-case\n",
    "print('Accuracy: ', accuracy_score(clf.predict(X), y))\n",
    "print('Precision: ', precision_score(y, clf.predict(X)))\n",
    "print('Recall: ', recall_score(y, clf.predict(X)))   \n",
    "\n",
    "test_classifier(clf, my_dataset, features_list)"
   ]
  },
  {
   "cell_type": "code",
   "execution_count": 370,
   "metadata": {},
   "outputs": [
    {
     "name": "stdout",
     "output_type": "stream",
     "text": [
      "GaussianNB(priors=None, var_smoothing=1e-09)\n"
     ]
    },
    {
     "name": "stderr",
     "output_type": "stream",
     "text": [
      "C:\\Program Files (x86)\\Microsoft Visual Studio\\Shared\\Anaconda3_64\\lib\\site-packages\\sklearn\\model_selection\\_search.py:841: DeprecationWarning: The default of the `iid` parameter will change from True to False in version 0.22 and will be removed in 0.24. This will change numeric results when test-set sizes are unequal.\n",
      "  DeprecationWarning)\n"
     ]
    }
   ],
   "source": [
    "#Tune Gaussian\n",
    "parameters = {}\n",
    "grid = GridSearchCV(clf, parameters, cv=5)\n",
    "grid.fit(X, y)\n",
    "print(grid.best_estimator_)"
   ]
  },
  {
   "cell_type": "markdown",
   "metadata": {},
   "source": [
    "### Arvore de decisão "
   ]
  },
  {
   "cell_type": "code",
   "execution_count": 371,
   "metadata": {},
   "outputs": [],
   "source": [
    "from sklearn import tree\n",
    "from sklearn.tree import DecisionTreeClassifier\n",
    "clf = DecisionTreeClassifier()"
   ]
  },
  {
   "cell_type": "code",
   "execution_count": 372,
   "metadata": {},
   "outputs": [
    {
     "name": "stdout",
     "output_type": "stream",
     "text": [
      "Accuracy:  0.75\n",
      "f1:  0.42857142857142855\n",
      "Precision:  0.421875\n",
      "Recall:  0.43548387096774194\n",
      "DecisionTreeClassifier(class_weight=None, criterion='gini', max_depth=None,\n",
      "            max_features=None, max_leaf_nodes=None,\n",
      "            min_impurity_decrease=0.0, min_impurity_split=None,\n",
      "            min_samples_leaf=1, min_samples_split=2,\n",
      "            min_weight_fraction_leaf=0.0, presort=False, random_state=None,\n",
      "            splitter='best')\n",
      "\tAccuracy: 0.79627\tPrecision: 0.22699\tRecall: 0.21950\tF1: 0.22318\tF2: 0.22096\n",
      "\tTotal predictions: 15000\tTrue positives:  439\tFalse positives: 1495\tFalse negatives: 1561\tTrue negatives: 11505\n",
      "\n"
     ]
    }
   ],
   "source": [
    "clf = tree.DecisionTreeClassifier()\n",
    "clf.fit(X_train, y_train)\n",
    "y_pred = clf.predict(X_test)\n",
    "\n",
    "print('Accuracy: ', accuracy_score(y_test, y_pred))\n",
    "print('f1: ', f1_score(y_test, y_pred, average=\"macro\"))\n",
    "print('Precision: ', precision_score(y_test, y_pred, average=\"macro\"))\n",
    "print('Recall: ', recall_score(y_test, y_pred, average=\"macro\"))    \n",
    "\n",
    "test_classifier(clf, my_dataset, features_list)"
   ]
  },
  {
   "cell_type": "code",
   "execution_count": 373,
   "metadata": {},
   "outputs": [
    {
     "name": "stdout",
     "output_type": "stream",
     "text": [
      "DecisionTreeClassifier(class_weight=None, criterion='gini', max_depth=None,\n",
      "            max_features=None, max_leaf_nodes=None,\n",
      "            min_impurity_decrease=0.0, min_impurity_split=None,\n",
      "            min_samples_leaf=1, min_samples_split=2,\n",
      "            min_weight_fraction_leaf=0.0, presort=False, random_state=None,\n",
      "            splitter='best')\n"
     ]
    }
   ],
   "source": [
    "#Tune Decision Tree\n",
    "parameters = {}\n",
    "grid = GridSearchCV(clf, parameters, cv=5, scoring='f1')\n",
    "grid.fit(X_train, y_train)\n",
    "print(grid.best_estimator_)"
   ]
  },
  {
   "cell_type": "markdown",
   "metadata": {},
   "source": [
    "### Seleção de features feita de forma inteligente"
   ]
  },
  {
   "cell_type": "code",
   "execution_count": 374,
   "metadata": {},
   "outputs": [
    {
     "name": "stdout",
     "output_type": "stream",
     "text": [
      "19\n",
      "18\n",
      "                           importance\n",
      "feature                              \n",
      "other                           0.196\n",
      "expenses                        0.181\n",
      "exercised_stock_options         0.168\n",
      "total_payments                  0.112\n",
      "long_term_incentive             0.107\n",
      "from_poi_to_this_person         0.070\n",
      "salary                          0.060\n",
      "deferred_income                 0.059\n",
      "to_messages                     0.048\n",
      "bonus                           0.000\n",
      "restricted_stock_deferred       0.000\n",
      "shared_receipt_with_poi         0.000\n",
      "loan_advances                   0.000\n",
      "restricted_stock                0.000\n",
      "deferral_payments               0.000\n",
      "from_this_person_to_poi         0.000\n",
      "from_messages                   0.000\n",
      "director_fees                   0.000\n",
      "total_stock_value               0.000\n"
     ]
    },
    {
     "data": {
      "text/plain": [
       "<matplotlib.axes._subplots.AxesSubplot at 0x1e805285dd8>"
      ]
     },
     "execution_count": 374,
     "metadata": {},
     "output_type": "execute_result"
    },
    {
     "data": {
      "image/png": "[encoded data removed]",
      "text/plain": [
       "<matplotlib.figure.Figure at 0x1e8051ff748>"
      ]
     },
     "metadata": {},
     "output_type": "display_data"
    }
   ],
   "source": [
    "#apresentar as caracteristicas mais importantes, fonte: \n",
    "#https://www.fabienplisson.com/choosing-right-features/\n",
    "print (len(clf.feature_importances_))\n",
    "print (len(features_list[1:19]))\n",
    "importances = pd.DataFrame({'feature':features_list[1:20],'importance':np.round(clf.feature_importances_,3)})\n",
    "importances = importances.sort_values('importance',ascending=False).set_index('feature')\n",
    " \n",
    "print (importances)\n",
    "importances.plot.bar()"
   ]
  },
  {
   "cell_type": "code",
   "execution_count": 375,
   "metadata": {},
   "outputs": [
    {
     "name": "stdout",
     "output_type": "stream",
     "text": [
      "                           importance\n",
      "feature                              \n",
      "bonus                              18\n",
      "from_messages                      17\n",
      "shared_receipt_with_poi            16\n",
      "loan_advances                      15\n",
      "deferred_income                    14\n",
      "total_payments                     13\n",
      "expenses                           12\n",
      "long_term_incentive                11\n",
      "exercised_stock_options            10\n",
      "from_poi_to_this_person             9\n",
      "restricted_stock_deferred           8\n",
      "other                               7\n",
      "salary                              6\n",
      "from_this_person_to_poi             5\n",
      "poi                                 4\n",
      "restricted_stock                    3\n",
      "director_fees                       2\n",
      "to_messages                         1\n",
      "deferral_payments                   0\n"
     ]
    },
    {
     "data": {
      "text/plain": [
       "<matplotlib.axes._subplots.AxesSubplot at 0x1e80523a4e0>"
      ]
     },
     "execution_count": 375,
     "metadata": {},
     "output_type": "execute_result"
    },
    {
     "data": {
      "image/png": "[encoded data removed]",
      "text/plain": [
       "<matplotlib.figure.Figure at 0x1e8052d46a0>"
      ]
     },
     "metadata": {},
     "output_type": "display_data"
    }
   ],
   "source": [
    "#verificação de featurees\n",
    "#fonte: https://stackoverflow.com/questions/40245277/visualize-feature-selection-in-descending-order-with-selectkbest\n",
    "fit = SelectKBest(f_regression, k=19).fit(X, y)\n",
    "\n",
    "indices = np.argsort(fit.scores_)[::-1]\n",
    "\n",
    "features = []\n",
    "for i in range(len(fit.scores_)):\n",
    "    features.append(features_list[i])\n",
    "    \n",
    "#Now plot\n",
    "importances = pd.DataFrame({'feature':features,'importance':indices})\n",
    "importances = importances.sort_values('importance',ascending=False).set_index('feature')\n",
    "print (importances)\n",
    "importances.plot.bar()"
   ]
  },
  {
   "cell_type": "code",
   "execution_count": 376,
   "metadata": {},
   "outputs": [
    {
     "name": "stdout",
     "output_type": "stream",
     "text": [
      "Feature ranking:\n",
      "1. feature 4 (0.096072)\n",
      "2. feature 0 (0.091859)\n",
      "3. feature 2 (0.087655)\n",
      "4. feature 18 (0.085189)\n",
      "5. feature 5 (0.073574)\n",
      "6. feature 11 (0.071640)\n",
      "7. feature 14 (0.062931)\n",
      "8. feature 17 (0.057489)\n",
      "9. feature 7 (0.056145)\n",
      "10. feature 12 (0.054550)\n",
      "11. feature 10 (0.051171)\n",
      "12. feature 8 (0.051053)\n",
      "13. feature 15 (0.048510)\n",
      "14. feature 16 (0.035775)\n",
      "15. feature 6 (0.035566)\n",
      "16. feature 1 (0.023623)\n",
      "17. feature 9 (0.008615)\n",
      "18. feature 13 (0.006757)\n",
      "19. feature 3 (0.001827)\n"
     ]
    },
    {
     "data": {
      "image/png": "[encoded data removed]",
      "text/plain": [
       "<matplotlib.figure.Figure at 0x1e80538bef0>"
      ]
     },
     "metadata": {},
     "output_type": "display_data"
    }
   ],
   "source": [
    "#random forest, fonte: http://scikit-learn.org/stable/auto_examples/ensemble/plot_forest_importances.html\n",
    "from sklearn.ensemble import ExtraTreesClassifier\n",
    "forest = ExtraTreesClassifier(n_estimators=250,\n",
    "                              random_state=0)\n",
    "\n",
    "forest.fit(X, y)\n",
    "importances = forest.feature_importances_\n",
    "std = np.std([tree.feature_importances_ for tree in forest.estimators_],\n",
    "             axis=0)\n",
    "\n",
    "indices = np.argsort(importances)[::-1]\n",
    "\n",
    "# Print the feature ranking\n",
    "print(\"Feature ranking:\")\n",
    "\n",
    "for f in range(X.shape[1]):\n",
    "    print(\"%d. feature %d (%f)\" % (f + 1, indices[f], importances[indices[f]]))\n",
    "\n",
    "# Plot the feature importances of the forest\n",
    "plt.figure()\n",
    "plt.title(\"Feature importances\")\n",
    "plt.bar(range(X.shape[1]), importances[indices],\n",
    "       color=\"r\", yerr=std[indices], align=\"center\")\n",
    "plt.xticks(range(X.shape[1]), indices)\n",
    "plt.xlim([-1, X.shape[1]])\n",
    "plt.show()"
   ]
  },
  {
   "cell_type": "markdown",
   "metadata": {},
   "source": [
    "### Criação de novas features\n",
    "Analisando o nosso DF, podemos trabalhar com uma ideia: <b>Tirar uma porcentagem das mensagens enviadas para um POI</b>, isso poderia ajudar a melhorar o classificador, entao podemos criar 2 novas caracteristicas\n",
    "<ul>\n",
    "    <li>from_this_person_to_poi: Relação da quantidades de emails enviados para um POI sobre o total de emails</li>\n",
    "    <li>from_poi_to_this_person: Relação da quantidades de emails recebidos de um POI sobre o total de emails</li>\n",
    "</ul>"
   ]
  },
  {
   "cell_type": "code",
   "execution_count": 377,
   "metadata": {},
   "outputs": [
    {
     "data": {
      "text/plain": [
       "<matplotlib.axes._subplots.AxesSubplot at 0x1e8053752e8>"
      ]
     },
     "execution_count": 377,
     "metadata": {},
     "output_type": "execute_result"
    },
    {
     "data": {
      "image/png": "[encoded data removed]",
      "text/plain": [
       "<matplotlib.figure.Figure at 0x1e80534a160>"
      ]
     },
     "metadata": {},
     "output_type": "display_data"
    }
   ],
   "source": [
    "df['fraction_from_poi'] = df['from_poi_to_this_person'] / df['to_messages']\n",
    "df['fraction_to_poi'] = df['from_this_person_to_poi'] / df['from_messages']\n",
    "\n",
    "ax = df[df['poi'] == False].plot.scatter(x='fraction_from_poi', y='fraction_to_poi', color='blue', label='non-poi')\n",
    "df[df['poi'] == True].plot.scatter(x='fraction_from_poi', y='fraction_to_poi', color='red', label='poi', ax=ax)"
   ]
  },
  {
   "cell_type": "markdown",
   "metadata": {},
   "source": [
    "### Novo classificador com afinamento e seleção de features"
   ]
  },
  {
   "cell_type": "code",
   "execution_count": 393,
   "metadata": {},
   "outputs": [],
   "source": [
    "#selecionar 10 features do selecktkbest, o poi e as novas features criadas\n",
    "features_list = ['poi', 'bonus', 'deferred_income', 'shared_receipt_with_poi', 'loan_advances', \n",
    "                'total_payments', 'expenses', 'long_term_incentive', 'exercised_stock_options', \n",
    "                'fraction_to_poi', 'fraction_from_poi']\n",
    "\n",
    "\n",
    "#converter o dataframe em um dicionário\n",
    "data_dict = df.to_dict(orient='index')\n",
    "\n",
    "#copiar o dicionário para nao mexer nos dados caso venha a ter algum problema\n",
    "my_dataset = data_dict\n",
    "data = featureFormat(my_dataset, features_list, sort_keys = True)\n",
    "\n",
    "y, X = targetFeatureSplit(data)\n",
    "X = np.array(X)\n",
    "y = np.array(y)\n",
    "\n",
    "# alterar o teste \n",
    "X_train, X_test, y_train, y_test = train_test_split(X, y, test_size = 0.33, random_state = 42)"
   ]
  },
  {
   "cell_type": "code",
   "execution_count": 394,
   "metadata": {},
   "outputs": [
    {
     "name": "stdout",
     "output_type": "stream",
     "text": [
      "Accuracy test:  0.875\n",
      "Precision test:  0.6651162790697674\n",
      "Recall test:  0.6651162790697674\n",
      "GaussianNB(priors=None, var_smoothing=1e-09)\n",
      "\tAccuracy: 0.78540\tPrecision: 0.24741\tRecall: 0.29850\tF1: 0.27056\tF2: 0.28666\n",
      "\tTotal predictions: 15000\tTrue positives:  597\tFalse positives: 1816\tFalse negatives: 1403\tTrue negatives: 11184\n",
      "\n"
     ]
    }
   ],
   "source": [
    "#naive bayes\n",
    "clf = GaussianNB(priors=None, var_smoothing=1e-09)\n",
    "clf.fit(X_train, y_train)\n",
    "\n",
    "# Avaliação\n",
    "print('Accuracy test: ', accuracy_score(clf.predict(X_test), y_test))\n",
    "print('Precision test: ', precision_score(y_test, clf.predict(X_test), average='macro'))\n",
    "print('Recall test: ', recall_score(y_test, clf.predict(X_test), average='macro'))\n",
    "test_classifier(clf, my_dataset, features_list)"
   ]
  },
  {
   "cell_type": "code",
   "execution_count": 395,
   "metadata": {},
   "outputs": [
    {
     "name": "stdout",
     "output_type": "stream",
     "text": [
      "Accuracy test:  0.8541666666666666\n",
      "Precision test:  0.6309523809523809\n",
      "Recall test:  0.6534883720930232\n",
      "DecisionTreeClassifier(class_weight=None, criterion='gini', max_depth=None,\n",
      "            max_features=None, max_leaf_nodes=None,\n",
      "            min_impurity_decrease=0.0, min_impurity_split=None,\n",
      "            min_samples_leaf=1, min_samples_split=2,\n",
      "            min_weight_fraction_leaf=0.0, presort=False, random_state=None,\n",
      "            splitter='best')\n",
      "\tAccuracy: 0.83020\tPrecision: 0.35475\tRecall: 0.33400\tF1: 0.34406\tF2: 0.33795\n",
      "\tTotal predictions: 15000\tTrue positives:  668\tFalse positives: 1215\tFalse negatives: 1332\tTrue negatives: 11785\n",
      "\n"
     ]
    }
   ],
   "source": [
    "# arvore de decisão  pra testar após o tuning\n",
    "clf = DecisionTreeClassifier(class_weight=None, criterion='gini', max_depth=None,\n",
    "            max_features=None, max_leaf_nodes=None,\n",
    "            min_impurity_decrease=0.0, min_impurity_split=None,\n",
    "            min_samples_leaf=1, min_samples_split=2,\n",
    "            min_weight_fraction_leaf=0.0, presort=False, random_state=None)\n",
    "\n",
    "clf = tree.DecisionTreeClassifier()\n",
    "clf = clf.fit(X_train, y_train)\n",
    "\n",
    "print('Accuracy test: ', accuracy_score(clf.predict(X_test), y_test))\n",
    "print('Precision test: ', precision_score(y_test, clf.predict(X_test),average=\"macro\"))\n",
    "print('Recall test: ', recall_score(y_test, clf.predict(X_test), average=\"macro\"))\n",
    "test_classifier(clf, my_dataset, features_list)"
   ]
  },
  {
   "cell_type": "code",
   "execution_count": 396,
   "metadata": {},
   "outputs": [],
   "source": [
    "CLF_PICKLE_FILENAME = \"my_classifier_tree.pkl\"\n",
    "DATASET_PICKLE_FILENAME = \"my_dataset_tree.pkl\"\n",
    "FEATURE_LIST_FILENAME = \"my_feature_list_tree.pkl\"\n",
    "\n",
    "def dump_classifier_and_data(clf, dataset, feature_list):\n",
    "    with open(CLF_PICKLE_FILENAME, \"wb\") as clf_outfile:\n",
    "        pickle.dump(clf, clf_outfile)\n",
    "    with open(DATASET_PICKLE_FILENAME, \"wb\") as dataset_outfile:\n",
    "        pickle.dump(dataset, dataset_outfile)\n",
    "    with open(FEATURE_LIST_FILENAME, \"wb\") as featurelist_outfile:\n",
    "        pickle.dump(feature_list, featurelist_outfile)\n",
    "\n",
    "dump_classifier_and_data(clf,my_dataset,features_list)"
   ]
  },
  {
   "cell_type": "code",
   "execution_count": 397,
   "metadata": {},
   "outputs": [
    {
     "name": "stdout",
     "output_type": "stream",
     "text": [
      "DecisionTreeClassifier(class_weight=None, criterion='gini', max_depth=None,\n",
      "            max_features=None, max_leaf_nodes=None,\n",
      "            min_impurity_decrease=0.0, min_impurity_split=None,\n",
      "            min_samples_leaf=1, min_samples_split=2,\n",
      "            min_weight_fraction_leaf=0.0, presort=False, random_state=None,\n",
      "            splitter='best')\n",
      "\tAccuracy: 0.83300\tPrecision: 0.36704\tRecall: 0.34850\tF1: 0.35753\tF2: 0.35206\n",
      "\tTotal predictions: 15000\tTrue positives:  697\tFalse positives: 1202\tFalse negatives: 1303\tTrue negatives: 11798\n",
      "\n"
     ]
    }
   ],
   "source": [
    "def load_classifier_and_data():\n",
    "    with open(CLF_PICKLE_FILENAME, \"rb\") as clf_infile:\n",
    "        ct = pickle.load(clf_infile)\n",
    "    with open(DATASET_PICKLE_FILENAME, \"rb\") as dataset_infile:\n",
    "        ds = pickle.load(dataset_infile)\n",
    "    with open(FEATURE_LIST_FILENAME, \"rb\") as featurelist_infile:\n",
    "        fl = pickle.load(featurelist_infile)\n",
    "    return ct, ds, fl\n",
    "\n",
    "ct, ds, fl = load_classifier_and_data()\n",
    "### Run testing script\n",
    "test_classifier(ct, ds, fl)"
   ]
  },
  {
   "cell_type": "code",
   "execution_count": null,
   "metadata": {},
   "outputs": [],
   "source": []
  }
 ],
 "metadata": {
  "kernelspec": {
   "display_name": "Python 3",
   "language": "python",
   "name": "python3"
  },
  "language_info": {
   "codemirror_mode": {
    "name": "ipython",
    "version": 3
   },
   "file_extension": ".py",
   "mimetype": "text/x-python",
   "name": "python",
   "nbconvert_exporter": "python",
   "pygments_lexer": "ipython3",
   "version": "3.6.4"
  }
 },
 "nbformat": 4,
 "nbformat_minor": 2
}
